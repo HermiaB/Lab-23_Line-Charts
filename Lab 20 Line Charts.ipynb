{
 "cells": [
  {
   "cell_type": "markdown",
   "metadata": {},
   "source": [
    "<p style=\"text-align:center\">\n",
    "    <a href=\"https://skills.network\" target=\"_blank\">\n",
    "    <img src=\"https://cf-courses-data.s3.us.cloud-object-storage.appdomain.cloud/assets/logos/SN_web_lightmode.png\" width=\"200\" alt=\"Skills Network Logo\"  />\n",
    "    </a>\n",
    "</p>\n"
   ]
  },
  {
   "cell_type": "markdown",
   "metadata": {},
   "source": [
    "# **Line Charts**\n"
   ]
  },
  {
   "cell_type": "markdown",
   "metadata": {},
   "source": [
    "Estimated time needed: **30** minutes\n"
   ]
  },
  {
   "cell_type": "markdown",
   "metadata": {},
   "source": [
    "In this lab, you will focus on using line charts to analyze trends over time and across different categories in a dataset.\n",
    "\n"
   ]
  },
  {
   "cell_type": "markdown",
   "metadata": {},
   "source": [
    "## Objectives\n"
   ]
  },
  {
   "cell_type": "markdown",
   "metadata": {},
   "source": [
    "In this lab you will perform the following:\n"
   ]
  },
  {
   "cell_type": "markdown",
   "metadata": {},
   "source": [
    "- Track trends in compensation across age groups and specific age ranges.\n",
    "\n",
    "- Analyze job satisfaction trends based on experience level.\n",
    "\n",
    "- Explore and interpret line charts to identify patterns and trends.\n"
   ]
  },
  {
   "cell_type": "markdown",
   "metadata": {},
   "source": [
    "## Setup: Working with the Database\n",
    "**Install the needed libraries**\n"
   ]
  },
  {
   "cell_type": "code",
   "execution_count": 1,
   "metadata": {},
   "outputs": [
    {
     "name": "stdout",
     "output_type": "stream",
     "text": [
      "Requirement already satisfied: pandas in /opt/conda/lib/python3.12/site-packages (2.3.1)\n",
      "Requirement already satisfied: numpy>=1.26.0 in /opt/conda/lib/python3.12/site-packages (from pandas) (2.3.1)\n",
      "Requirement already satisfied: python-dateutil>=2.8.2 in /opt/conda/lib/python3.12/site-packages (from pandas) (2.9.0.post0)\n",
      "Requirement already satisfied: pytz>=2020.1 in /opt/conda/lib/python3.12/site-packages (from pandas) (2024.2)\n",
      "Requirement already satisfied: tzdata>=2022.7 in /opt/conda/lib/python3.12/site-packages (from pandas) (2025.2)\n",
      "Requirement already satisfied: six>=1.5 in /opt/conda/lib/python3.12/site-packages (from python-dateutil>=2.8.2->pandas) (1.17.0)\n"
     ]
    }
   ],
   "source": [
    "!pip install pandas\n"
   ]
  },
  {
   "cell_type": "code",
   "execution_count": 2,
   "metadata": {},
   "outputs": [
    {
     "name": "stdout",
     "output_type": "stream",
     "text": [
      "Requirement already satisfied: matplotlib in /opt/conda/lib/python3.12/site-packages (3.10.3)\n",
      "Requirement already satisfied: contourpy>=1.0.1 in /opt/conda/lib/python3.12/site-packages (from matplotlib) (1.3.2)\n",
      "Requirement already satisfied: cycler>=0.10 in /opt/conda/lib/python3.12/site-packages (from matplotlib) (0.12.1)\n",
      "Requirement already satisfied: fonttools>=4.22.0 in /opt/conda/lib/python3.12/site-packages (from matplotlib) (4.58.5)\n",
      "Requirement already satisfied: kiwisolver>=1.3.1 in /opt/conda/lib/python3.12/site-packages (from matplotlib) (1.4.8)\n",
      "Requirement already satisfied: numpy>=1.23 in /opt/conda/lib/python3.12/site-packages (from matplotlib) (2.3.1)\n",
      "Requirement already satisfied: packaging>=20.0 in /opt/conda/lib/python3.12/site-packages (from matplotlib) (24.2)\n",
      "Requirement already satisfied: pillow>=8 in /opt/conda/lib/python3.12/site-packages (from matplotlib) (11.3.0)\n",
      "Requirement already satisfied: pyparsing>=2.3.1 in /opt/conda/lib/python3.12/site-packages (from matplotlib) (3.2.3)\n",
      "Requirement already satisfied: python-dateutil>=2.7 in /opt/conda/lib/python3.12/site-packages (from matplotlib) (2.9.0.post0)\n",
      "Requirement already satisfied: six>=1.5 in /opt/conda/lib/python3.12/site-packages (from python-dateutil>=2.7->matplotlib) (1.17.0)\n"
     ]
    }
   ],
   "source": [
    "!pip install matplotlib"
   ]
  },
  {
   "cell_type": "markdown",
   "metadata": {},
   "source": [
    "**Download and connect to the database file containing survey data.**\n"
   ]
  },
  {
   "cell_type": "markdown",
   "metadata": {},
   "source": [
    "To start, download and load the dataset into a `pandas` DataFrame.\n",
    "\n"
   ]
  },
  {
   "cell_type": "markdown",
   "metadata": {},
   "source": [
    "#### Step 1: Download the dataset\n"
   ]
  },
  {
   "cell_type": "code",
   "execution_count": null,
   "metadata": {},
   "outputs": [
    {
     "name": "stdout",
     "output_type": "stream",
     "text": [
      "--2025-07-10 22:09:08--  https://cf-courses-data.s3.us.cloud-object-storage.appdomain.cloud/n01PQ9pSmiRX6520flujwQ/survey-data.csv\n",
      "Resolving cf-courses-data.s3.us.cloud-object-storage.appdomain.cloud (cf-courses-data.s3.us.cloud-object-storage.appdomain.cloud)... 169.63.118.104\n",
      "Connecting to cf-courses-data.s3.us.cloud-object-storage.appdomain.cloud (cf-courses-data.s3.us.cloud-object-storage.appdomain.cloud)|169.63.118.104|:443... connected.\n",
      "200 OKequest sent, awaiting response... \n",
      "Length: 159525875 (152M) [text/csv]\n",
      "Saving to: ‘survey-data.csv’\n",
      "\n",
      "survey-data.csv     100%[===================>] 152.13M  58.0MB/s    in 2.6s    \n",
      "\n",
      "2025-07-10 22:09:11 (58.0 MB/s) - ‘survey-data.csv’ saved [159525875/159525875]\n",
      "\n"
     ]
    }
   ],
   "source": [
    "!wget -O survey-data.csv https://cf-courses-data.s3.us.cloud-object-storage.appdomain.cloud/n01PQ9pSmiRX6520flujwQ/survey-data.csv\n"
   ]
  },
  {
   "cell_type": "markdown",
   "metadata": {},
   "source": [
    "#### Step 2: Import necessary libraries and load the dataset\n"
   ]
  },
  {
   "cell_type": "code",
   "execution_count": null,
   "metadata": {},
   "outputs": [],
   "source": [
    "import pandas as pd\n",
    "import matplotlib.pyplot as plt\n"
   ]
  },
  {
   "cell_type": "markdown",
   "metadata": {},
   "source": [
    "#### Load the data\n"
   ]
  },
  {
   "cell_type": "code",
   "execution_count": null,
   "metadata": {},
   "outputs": [],
   "source": [
    "df = pd.read_csv(\"survey-data.csv\")\n"
   ]
  },
  {
   "cell_type": "markdown",
   "metadata": {},
   "source": [
    "#### Display the first few rows to understand the structure of the data\n"
   ]
  },
  {
   "cell_type": "code",
   "execution_count": null,
   "metadata": {},
   "outputs": [],
   "source": [
    "df.head()"
   ]
  },
  {
   "cell_type": "markdown",
   "metadata": {},
   "source": [
    "### Task 1: Trends in Compensation Over Age Groups\n"
   ]
  },
  {
   "cell_type": "markdown",
   "metadata": {},
   "source": [
    "##### 1. Line Chart of Median `ConvertedCompYearly` by Age Group\n"
   ]
  },
  {
   "cell_type": "markdown",
   "metadata": {},
   "source": [
    "- Track how the median yearly compensation (ConvertedCompYearly) changes across different age groups.\n",
    "\n",
    "- Use a line chart to visualize these trends.\n"
   ]
  },
  {
   "cell_type": "code",
   "execution_count": null,
   "metadata": {},
   "outputs": [],
   "source": [
    "## Write your code here\n",
    "\n",
    "import pandas as pd\n",
    "import numpy as np\n",
    "import matplotlib.pyplot as plt\n",
    "\n",
    "\n",
    "# Step 1: Drop rows with missing compensation\n",
    "df_clean = df.dropna(subset=['ConvertedCompYearly'])\n",
    "\n",
    "# Step 2: Optional scaling (for easier visualization)\n",
    "df_clean['ConvertedCompYearly'] = df_clean['ConvertedCompYearly'] / 1e4  # scaling by 10,000\n",
    "\n",
    "# Step 3: Group by Age and calculate median\n",
    "grouped = df_clean.groupby('Age')['ConvertedCompYearly'].median().reset_index()\n",
    "\n",
    "# Step 4: Plot\n",
    "plt.figure(figsize=(10,6))\n",
    "plt.plot(grouped['Age'], grouped['ConvertedCompYearly'], marker='o')\n",
    "plt.xticks(rotation=45)\n",
    "plt.xlabel('Age Group')\n",
    "plt.ylabel('Median Compensation (×10,000)')\n",
    "plt.title('Median ConvertedCompYearly by Age Group')\n",
    "plt.grid(True)\n",
    "plt.tight_layout()\n",
    "plt.show()"
   ]
  },
  {
   "cell_type": "markdown",
   "metadata": {},
   "source": [
    "##### 2. Line Chart of Median `ConvertedCompYearly` for Ages 25 to 45\n"
   ]
  },
  {
   "cell_type": "markdown",
   "metadata": {},
   "source": [
    "For a closer look, plot a line chart focusing on the median compensation for respondents between ages 25 and 45.\n"
   ]
  },
  {
   "cell_type": "code",
   "execution_count": null,
   "metadata": {},
   "outputs": [],
   "source": [
    "## Write your code here\n",
    "\n",
    "import numpy as np\n",
    "import pandas as pd\n",
    "import matplotlib.pyplot as plt\n",
    "\n",
    "# Convert age ranges to midpoints \n",
    "def extract_age_midpoint(age_str):\n",
    "    try:\n",
    "        if 'years old' in str(age_str):\n",
    "            age_range = age_str.split(' ')[0]\n",
    "            if '-' in age_range:\n",
    "                start, end = map(int, age_range.split('-'))\n",
    "                return (start + end) / 2\n",
    "            elif 'Under' in age_str:\n",
    "                return 16  # Approximate for \"Under 18\"\n",
    "            elif '65' in age_str:\n",
    "                return 70  # Approximate for \"65 or older\"\n",
    "    except:\n",
    "        return np.nan\n",
    "    return np.nan\n",
    "\n",
    "df['AgeMid'] = df['Age'].apply(extract_age_midpoint)\n",
    "\n",
    "# Clean and filter \n",
    "df = df.dropna(subset=['ConvertedCompYearly', 'AgeMid'])\n",
    "df['ConvertedCompYearly'] = pd.to_numeric(df['ConvertedCompYearly'], errors='coerce')\n",
    "df = df[(df['AgeMid'] >= 25) & (df['AgeMid'] <= 45)]\n",
    "\n",
    "# Group and compute median \n",
    "median_comp_by_age = df.groupby('AgeMid')['ConvertedCompYearly'].median().sort_index()\n",
    "\n",
    "# Plot \n",
    "plt.figure(figsize=(10, 6))\n",
    "plt.plot(median_comp_by_age.index, median_comp_by_age.values, marker='o', linestyle='-', color='darkblue')\n",
    "plt.title('Median Yearly Compensation for Ages 25 to 45')\n",
    "plt.xlabel('Age (Midpoint)')\n",
    "plt.ylabel('Median Compensation (USD)')\n",
    "plt.grid(True)\n",
    "plt.tight_layout()\n",
    "plt.show()"
   ]
  },
  {
   "cell_type": "markdown",
   "metadata": {},
   "source": [
    "### Task 2: Trends in Job Satisfaction by Experience Level\n",
    "\n"
   ]
  },
  {
   "cell_type": "markdown",
   "metadata": {},
   "source": [
    "##### 1. Line Chart of Job Satisfaction (`JobSatPoints_6`) by Experience Level\n",
    "\n"
   ]
  },
  {
   "cell_type": "markdown",
   "metadata": {},
   "source": [
    "- Use a column that approximates experience level to analyze how job satisfaction changes with experience.\n",
    "\n",
    "- If needed, substitute an available experience-related column for `Experience`.\n"
   ]
  },
  {
   "cell_type": "code",
   "execution_count": null,
   "metadata": {},
   "outputs": [],
   "source": [
    "## Write your code here\n",
    "\n",
    "import pandas as pd\n",
    "import matplotlib.pyplot as plt\n",
    "\n",
    "# Drop rows with missing values in relevant columns\n",
    "df_exp = df.dropna(subset=['WorkExp', 'JobSatPoints_6']).copy()\n",
    "\n",
    "# Group by ExperienceLevel and calculate median JobSatPoints_6\n",
    "median_jobsat_by_exp = df_exp.groupby('WorkExp')['JobSatPoints_6'].median().dropna()\n",
    "\n",
    "# Plot\n",
    "plt.figure(figsize=(10,6))\n",
    "plt.plot(median_jobsat_by_exp.index, median_jobsat_by_exp.values, marker='o', linestyle='-', color='purple')\n",
    "plt.title('Median Job Satisfaction (JobSatPoints_6) by Experience Level')\n",
    "plt.xlabel('Experience Level')\n",
    "plt.ylabel('Median Job Satisfaction Score')\n",
    "plt.grid(True)\n",
    "plt.xticks(rotation=45)\n",
    "plt.tight_layout()\n",
    "plt.show()"
   ]
  },
  {
   "cell_type": "markdown",
   "metadata": {},
   "source": [
    "### Task 3: Trends in Job Satisfaction and Compensation by Experience\n"
   ]
  },
  {
   "cell_type": "markdown",
   "metadata": {},
   "source": [
    "##### 1.Line Chart of Median ConvertedCompYearly Over Experience Level\n",
    "\n",
    "- This line chart will track how median compensation (`ConvertedCompYearly`) changes with increasing experience.\n",
    "\n",
    "- Use a column such as `WorkExp` or another relevant experience-related column.\n"
   ]
  },
  {
   "cell_type": "code",
   "execution_count": null,
   "metadata": {},
   "outputs": [],
   "source": [
    "## Write your code here\n",
    "\n",
    "import pandas as pd\n",
    "import matplotlib.pyplot as plt\n",
    "\n",
    "# Clean the data: drop rows with missing compensation or experience\n",
    "df_clean = df.dropna(subset=['ConvertedCompYearly', 'WorkExp']).copy()\n",
    "\n",
    "# Convert WorkExp to a numeric format\n",
    "def convert_workexp(value):\n",
    "    if isinstance(value, str):\n",
    "        if \"less than\" in value.lower():\n",
    "            return 0.5\n",
    "        elif \"more than\" in value.lower() or \"10+\" in value:\n",
    "            return 11  # Assuming upper bound for plotting\n",
    "        else:\n",
    "            try:\n",
    "                return float(value)\n",
    "            except:\n",
    "                return None\n",
    "    return value\n",
    "\n",
    "df_clean['WorkExpNum'] = df_clean['WorkExp'].apply(convert_workexp)\n",
    "\n",
    "# Drop rows that couldn't be converted\n",
    "df_clean = df_clean.dropna(subset=['WorkExpNum'])\n",
    "\n",
    "# Ensure compensation is numeric\n",
    "df_clean['ConvertedCompYearly'] = pd.to_numeric(df_clean['ConvertedCompYearly'], errors='coerce')\n",
    "df_clean = df_clean.dropna(subset=['ConvertedCompYearly'])\n",
    "\n",
    "# Group by WorkExpNum and calculate median compensation\n",
    "comp_by_exp = df_clean.groupby('WorkExpNum')['ConvertedCompYearly'].median().sort_index()\n",
    "\n",
    "# Plotting\n",
    "plt.figure(figsize=(10,6))\n",
    "plt.plot(comp_by_exp.index, comp_by_exp.values, marker='o', linestyle='-', color='teal')\n",
    "plt.title('Median Converted Compensation by Years of Experience')\n",
    "plt.xlabel('Years of Experience')\n",
    "plt.ylabel('Median Yearly Compensation (ConvertedCompYearly)')\n",
    "plt.grid(True)\n",
    "plt.tight_layout()\n",
    "plt.show()"
   ]
  },
  {
   "cell_type": "markdown",
   "metadata": {},
   "source": [
    "##### 2.Line Chart of Job Satisfaction (`JobSatPoints_6`) Across Experience Levels\n",
    "\n",
    "- Create a line chart to explore trends in job satisfaction (`JobSatPoints_6`) based on experience level.\n",
    "\n",
    "- This chart will provide insight into how satisfaction correlates with experience over time\n"
   ]
  },
  {
   "cell_type": "code",
   "execution_count": null,
   "metadata": {},
   "outputs": [],
   "source": [
    "## Write your code here\n",
    "\n",
    "import pandas as pd\n",
    "import matplotlib.pyplot as plt\n",
    "\n",
    "# Step 1: Clean and prepare data\n",
    "df_clean = df.dropna(subset=['JobSatPoints_6', 'WorkExp']).copy()\n",
    "\n",
    "# Convert WorkExp to numeric\n",
    "def convert_workexp(value):\n",
    "    if isinstance(value, str):\n",
    "        value = value.strip().lower()\n",
    "        if 'less than' in value:\n",
    "            return 0.5\n",
    "        elif 'more than' in value or '10+' in value:\n",
    "            return 11\n",
    "        try:\n",
    "            return float(value)\n",
    "        except:\n",
    "            return None\n",
    "    return value\n",
    "\n",
    "df_clean['WorkExpNum'] = df_clean['WorkExp'].apply(convert_workexp)\n",
    "df_clean = df_clean.dropna(subset=['WorkExpNum'])\n",
    "\n",
    "# Step 2: Group by experience and calculate median job satisfaction\n",
    "satisfaction_by_exp = df_clean.groupby('WorkExpNum')['JobSatPoints_6'].median().sort_index()\n",
    "\n",
    "# Step 3: Plot\n",
    "plt.figure(figsize=(10,6))\n",
    "plt.plot(satisfaction_by_exp.index, satisfaction_by_exp.values, marker='o', linestyle='-', color='orange')\n",
    "plt.title('Job Satisfaction (JobSatPoints_6) Across Experience Levels')\n",
    "plt.xlabel('Years of Experience')\n",
    "plt.ylabel('Job Satisfaction (JobSatPoints_6)')\n",
    "plt.grid(True)\n",
    "plt.tight_layout()\n",
    "plt.show()"
   ]
  },
  {
   "cell_type": "markdown",
   "metadata": {},
   "source": [
    "#### Final Step: Review\n"
   ]
  },
  {
   "cell_type": "markdown",
   "metadata": {},
   "source": [
    "In this lab, you focused on analyzing trends in compensation and job satisfaction, specifically exploring how these metrics change with age and experience levels using line charts.\n"
   ]
  },
  {
   "cell_type": "markdown",
   "metadata": {},
   "source": [
    "### Summary\n"
   ]
  },
  {
   "cell_type": "markdown",
   "metadata": {},
   "source": [
    "In this lab, you explored essential data visualization techniques with a focus on analyzing trends using line charts. You learned to:\n",
    "\n",
    "- Visualize the distribution of compensation across age groups to understand salary trends.\n",
    "\n",
    "- Track changes in median compensation over various experience levels, identifying how earnings progress with experience.\n",
    "\n",
    "- Examine trends in job satisfaction by experience, revealing how satisfaction varies throughout a developer's career.\n",
    "\n",
    "These analyses allow for a deeper understanding of how factors like age and experience influence job satisfaction and compensation. By using line charts, you gained insights into continuous data patterns, which are invaluable for interpreting professional trends in the developer community.\n"
   ]
  },
  {
   "cell_type": "markdown",
   "metadata": {},
   "source": [
    "## Authors:\n",
    "Ayushi Jain\n"
   ]
  },
  {
   "cell_type": "markdown",
   "metadata": {},
   "source": [
    "### Other Contributors:\n",
    "- Rav Ahuja\n",
    "- Lakshmi Holla\n",
    "- Malika\n"
   ]
  },
  {
   "cell_type": "markdown",
   "metadata": {},
   "source": [
    "<!--\n",
    "## Change Log\n",
    "|Date (YYYY-MM-DD)|Version|Changed By|Change Description|\n",
    "|-|-|-|-|\n",
    "|2024-10-28|1.2|Madhusudhan Moole|Updated lab|\n",
    "|2024-10-16|1.1|Madhusudhan Moole|Updated lab|\n",
    "|2024-10-15|1.0|Raghul Ramesh|Created lab|\n",
    "--!>\n"
   ]
  },
  {
   "cell_type": "markdown",
   "metadata": {},
   "source": [
    "Copyright © IBM Corporation. All rights reserved.\n"
   ]
  }
 ],
 "metadata": {
  "kernelspec": {
   "display_name": "Python 3 (ipykernel)",
   "language": "python",
   "name": "python3"
  },
  "language_info": {
   "codemirror_mode": {
    "name": "ipython",
    "version": 3
   },
   "file_extension": ".py",
   "mimetype": "text/x-python",
   "name": "python",
   "nbconvert_exporter": "python",
   "pygments_lexer": "ipython3",
   "version": "3.12.8"
  },
  "prev_pub_hash": "6e25a817ee07dccee3314238c7334ee141ddcfc9735e6846287516215ffd13b8"
 },
 "nbformat": 4,
 "nbformat_minor": 4
}
